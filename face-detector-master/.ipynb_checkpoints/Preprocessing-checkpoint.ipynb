{
 "cells": [
  {
   "cell_type": "code",
   "execution_count": 1,
   "metadata": {},
   "outputs": [],
   "source": [
    "import cv2\n",
    "from matplotlib import pyplot as plt\n",
    "import glob\n",
    "import os\n",
    "import random\n",
    "import Augmentor\n",
    "import dlib\n",
    "from tqdm import tqdm"
   ]
  },
  {
   "cell_type": "code",
   "execution_count": 2,
   "metadata": {},
   "outputs": [],
   "source": [
    "def read_image(image_path):\n",
    "    img = cv2.imread(image_path)\n",
    "    img = cv2.resize(img, (221, 221))\n",
    "    \n",
    "    grey = cv2.cvtColor(img, cv2.COLOR_BGR2GRAY)\n",
    "    \n",
    "    hog_face_detector = dlib.get_frontal_face_detector()\n",
    "    faces_hog= hog_face_detector(img, 1)\n",
    "    \n",
    "    if len(faces_hog) == 1:\n",
    "        x = faces_hog[0].left()\n",
    "        y = faces_hog[0].top()\n",
    "        w = faces_hog[0].right() - x\n",
    "        h = faces_hog[0].bottom() - y\n",
    "        \n",
    "        return img[y:y+h, x:x+w]\n",
    "\n",
    "#     print(image_path, len(faces_hog))\n",
    "        \n",
    "    return None"
   ]
  },
  {
   "cell_type": "code",
   "execution_count": 3,
   "metadata": {},
   "outputs": [],
   "source": [
    "# people = [\"HA\", \"Thinh\", \"Tung\", \"Son\"]"
   ]
  },
  {
   "cell_type": "code",
   "execution_count": 4,
   "metadata": {
    "collapsed": true
   },
   "outputs": [
    {
     "name": "stderr",
     "output_type": "stream",
     "text": [
      "Processing <PIL.Image.Image image mode=RGB size=78x69 at 0x7FE19306D1D0>:   4%|▍         | 4/100 [00:00<00:03, 27.30 Samples/s]  "
     ]
    },
    {
     "name": "stdout",
     "output_type": "stream",
     "text": [
      "Initialised with 8 image(s) found.\n",
      "Output directory set to /home/pham.hoang.anh/prj/face_detect/data/crop_image/train/HA."
     ]
    },
    {
     "name": "stderr",
     "output_type": "stream",
     "text": [
      "Processing <PIL.Image.Image image mode=RGB size=74x76 at 0x7FE190008358>: 100%|██████████| 100/100 [00:00<00:00, 173.76 Samples/s]\n",
      "Processing <PIL.Image.Image image mode=RGB size=103x118 at 0x7FE19306DA90>:  16%|█▌        | 16/100 [00:00<00:08,  9.76 Samples/s]"
     ]
    },
    {
     "name": "stdout",
     "output_type": "stream",
     "text": [
      "Initialised with 8 image(s) found.\n",
      "Output directory set to /home/pham.hoang.anh/prj/face_detect/data/crop_image/train/Thinh."
     ]
    },
    {
     "name": "stderr",
     "output_type": "stream",
     "text": [
      "Processing <PIL.Image.Image image mode=RGB size=191x166 at 0x7FE193088748>: 100%|██████████| 100/100 [00:00<00:00, 250.58 Samples/s]\n",
      "Processing <PIL.Image.Image image mode=RGB size=135x156 at 0x7FE1C4CDEC18>:  15%|█▌        | 15/100 [00:00<00:04, 17.33 Samples/s]"
     ]
    },
    {
     "name": "stdout",
     "output_type": "stream",
     "text": [
      "Initialised with 7 image(s) found.\n",
      "Output directory set to /home/pham.hoang.anh/prj/face_detect/data/crop_image/train/Tung."
     ]
    },
    {
     "name": "stderr",
     "output_type": "stream",
     "text": [
      "Processing <PIL.Image.Image image mode=RGB size=99x95 at 0x7FE19000CC88>: 100%|██████████| 100/100 [00:00<00:00, 348.30 Samples/s]\n",
      "Processing <PIL.Image.Image image mode=RGB size=94x86 at 0x7FE1930835F8>:  10%|█         | 10/100 [00:00<00:04, 19.79 Samples/s] "
     ]
    },
    {
     "name": "stdout",
     "output_type": "stream",
     "text": [
      "Initialised with 8 image(s) found.\n",
      "Output directory set to /home/pham.hoang.anh/prj/face_detect/data/crop_image/train/Son."
     ]
    },
    {
     "name": "stderr",
     "output_type": "stream",
     "text": [
      "Processing <PIL.Image.Image image mode=RGB size=128x132 at 0x7FE193088E48>: 100%|██████████| 100/100 [00:00<00:00, 244.09 Samples/s]\n"
     ]
    }
   ],
   "source": [
    "# for person in people:\n",
    "#     path_to_data = \"/home/pham.hoang.anh/prj/face_detect/data/crop_image/train/\" + person\n",
    "#     p = Augmentor.Pipeline(path_to_data, output_directory=\"/home/pham.hoang.anh/prj/face_detect/data/crop_image/train/\" + person)\n",
    "#     p.rotate(probability=1, max_left_rotation=5, max_right_rotation=5)\n",
    "#     p.flip_left_right(probability=0.5)\n",
    "#     p.flip_top_bottom(probability=0.5)\n",
    "#     p.random_erasing(probability=0.5, rectangle_area=0.3)\n",
    "#     p.sample(100)"
   ]
  },
  {
   "cell_type": "code",
   "execution_count": 5,
   "metadata": {
    "collapsed": true
   },
   "outputs": [
    {
     "name": "stderr",
     "output_type": "stream",
     "text": [
      "Processing <PIL.Image.Image image mode=RGB size=59x56 at 0x7FE19000C4A8>: 100%|██████████| 20/20 [00:00<00:00, 345.89 Samples/s]\n",
      "Processing <PIL.Image.Image image mode=RGB size=119x117 at 0x7FE193083828>: 100%|██████████| 20/20 [00:00<00:00, 172.73 Samples/s]\n",
      "Executing Pipeline:   0%|          | 0/20 [00:00<?, ? Samples/s]"
     ]
    },
    {
     "name": "stdout",
     "output_type": "stream",
     "text": [
      "Initialised with 22 image(s) found.\n",
      "Output directory set to /home/pham.hoang.anh/prj/face_detect/data/crop_image/val/HA.Initialised with 22 image(s) found.\n",
      "Output directory set to /home/pham.hoang.anh/prj/face_detect/data/crop_image/val/Thinh.Initialised with 21 image(s) found.\n",
      "Output directory set to /home/pham.hoang.anh/prj/face_detect/data/crop_image/val/Tung."
     ]
    },
    {
     "name": "stderr",
     "output_type": "stream",
     "text": [
      "Processing <PIL.Image.Image image mode=RGB size=72x69 at 0x7FE1C4CDE080>: 100%|██████████| 20/20 [00:00<00:00, 355.27 Samples/s]\n",
      "Processing <PIL.Image.Image image mode=RGB size=38x37 at 0x7FE19000CC88>: 100%|██████████| 20/20 [00:00<00:00, 441.93 Samples/s]"
     ]
    },
    {
     "name": "stdout",
     "output_type": "stream",
     "text": [
      "Initialised with 22 image(s) found.\n",
      "Output directory set to /home/pham.hoang.anh/prj/face_detect/data/crop_image/val/Son."
     ]
    },
    {
     "name": "stderr",
     "output_type": "stream",
     "text": [
      "\n"
     ]
    }
   ],
   "source": [
    "# for person in people:\n",
    "#     path_to_data = \"/home/pham.hoang.anh/prj/face_detect/data/crop_image/val/\" + person\n",
    "#     p = Augmentor.Pipeline(path_to_data, output_directory=\"/home/pham.hoang.anh/prj/face_detect/data/crop_image/val/\" + person)\n",
    "#     p.rotate(probability=1, max_left_rotation=5, max_right_rotation=5)\n",
    "#     p.flip_left_right(probability=0.5)\n",
    "#     p.flip_top_bottom(probability=0.5)\n",
    "#     p.random_erasing(probability=0.5, rectangle_area=0.3)\n",
    "#     p.sample(20)"
   ]
  },
  {
   "cell_type": "code",
   "execution_count": 3,
   "metadata": {},
   "outputs": [
    {
     "name": "stderr",
     "output_type": "stream",
     "text": [
      "/home/pham.hoang.anh/virtualenv/deep-fashion/lib/python3.5/importlib/_bootstrap.py:222: RuntimeWarning: numpy.dtype size changed, may indicate binary incompatibility. Expected 96, got 88\n",
      "  return f(*args, **kwds)\n",
      "/home/pham.hoang.anh/virtualenv/deep-fashion/lib/python3.5/importlib/_bootstrap.py:222: RuntimeWarning: numpy.dtype size changed, may indicate binary incompatibility. Expected 96, got 88\n",
      "  return f(*args, **kwds)\n",
      "/home/pham.hoang.anh/virtualenv/deep-fashion/lib/python3.5/importlib/_bootstrap.py:222: RuntimeWarning: numpy.dtype size changed, may indicate binary incompatibility. Expected 96, got 88\n",
      "  return f(*args, **kwds)\n",
      "\r",
      "  0%|          | 0/5750 [00:00<?, ?it/s]"
     ]
    },
    {
     "name": "stdout",
     "output_type": "stream",
     "text": [
      "0\n"
     ]
    },
    {
     "name": "stderr",
     "output_type": "stream",
     "text": [
      "\r",
      "  0%|          | 1/5750 [00:00<36:18,  2.64it/s]"
     ]
    },
    {
     "name": "stdout",
     "output_type": "stream",
     "text": [
      "0\n"
     ]
    },
    {
     "name": "stderr",
     "output_type": "stream",
     "text": [
      "\r",
      "  0%|          | 2/5750 [00:00<39:15,  2.44it/s]"
     ]
    },
    {
     "name": "stdout",
     "output_type": "stream",
     "text": [
      "1\n"
     ]
    },
    {
     "name": "stderr",
     "output_type": "stream",
     "text": [
      "\r",
      "  0%|          | 3/5750 [00:01<38:23,  2.50it/s]"
     ]
    },
    {
     "name": "stdout",
     "output_type": "stream",
     "text": [
      "2\n"
     ]
    },
    {
     "name": "stderr",
     "output_type": "stream",
     "text": [
      "\r",
      "  0%|          | 4/5750 [00:01<38:08,  2.51it/s]"
     ]
    },
    {
     "name": "stdout",
     "output_type": "stream",
     "text": [
      "3\n"
     ]
    },
    {
     "name": "stderr",
     "output_type": "stream",
     "text": [
      "\r",
      "  0%|          | 5/5750 [00:01<37:43,  2.54it/s]"
     ]
    },
    {
     "name": "stdout",
     "output_type": "stream",
     "text": [
      "4\n"
     ]
    },
    {
     "name": "stderr",
     "output_type": "stream",
     "text": [
      "\n"
     ]
    },
    {
     "ename": "KeyboardInterrupt",
     "evalue": "",
     "output_type": "error",
     "traceback": [
      "\u001b[0;31m---------------------------------------------------------------------------\u001b[0m",
      "\u001b[0;31mKeyboardInterrupt\u001b[0m                         Traceback (most recent call last)",
      "\u001b[0;32m<ipython-input-3-9dd3a48c957b>\u001b[0m in \u001b[0;36m<module>\u001b[0;34m()\u001b[0m\n\u001b[1;32m     12\u001b[0m             \u001b[0;32mfor\u001b[0m \u001b[0mext\u001b[0m \u001b[0;32min\u001b[0m \u001b[0;34m(\u001b[0m\u001b[0;34m'jpg'\u001b[0m\u001b[0;34m,\u001b[0m \u001b[0;34m'jpeg'\u001b[0m\u001b[0;34m,\u001b[0m \u001b[0;34m'png'\u001b[0m\u001b[0;34m)\u001b[0m\u001b[0;34m:\u001b[0m\u001b[0;34m\u001b[0m\u001b[0m\n\u001b[1;32m     13\u001b[0m                 \u001b[0;32mfor\u001b[0m \u001b[0mf\u001b[0m \u001b[0;32min\u001b[0m \u001b[0mglob\u001b[0m\u001b[0;34m.\u001b[0m\u001b[0mglob\u001b[0m\u001b[0;34m(\u001b[0m\u001b[0mos\u001b[0m\u001b[0;34m.\u001b[0m\u001b[0mpath\u001b[0m\u001b[0;34m.\u001b[0m\u001b[0mjoin\u001b[0m\u001b[0;34m(\u001b[0m\u001b[0mpath\u001b[0m\u001b[0;34m,\u001b[0m \u001b[0md\u001b[0m\u001b[0;34m,\u001b[0m \u001b[0;34m'*.'\u001b[0m \u001b[0;34m+\u001b[0m \u001b[0mext\u001b[0m\u001b[0;34m)\u001b[0m\u001b[0;34m)\u001b[0m\u001b[0;34m:\u001b[0m\u001b[0;34m\u001b[0m\u001b[0m\n\u001b[0;32m---> 14\u001b[0;31m                     \u001b[0mimg\u001b[0m \u001b[0;34m=\u001b[0m \u001b[0mread_image\u001b[0m\u001b[0;34m(\u001b[0m\u001b[0mf\u001b[0m\u001b[0;34m)\u001b[0m\u001b[0;34m\u001b[0m\u001b[0m\n\u001b[0m\u001b[1;32m     15\u001b[0m                     \u001b[0;32mif\u001b[0m \u001b[0mimg\u001b[0m \u001b[0;32mis\u001b[0m \u001b[0;32mNone\u001b[0m\u001b[0;34m:\u001b[0m\u001b[0;34m\u001b[0m\u001b[0m\n\u001b[1;32m     16\u001b[0m                         \u001b[0;32mcontinue\u001b[0m\u001b[0;34m\u001b[0m\u001b[0m\n",
      "\u001b[0;32m<ipython-input-2-daec3ebdb792>\u001b[0m in \u001b[0;36mread_image\u001b[0;34m(image_path)\u001b[0m\n\u001b[1;32m      5\u001b[0m     \u001b[0mgrey\u001b[0m \u001b[0;34m=\u001b[0m \u001b[0mcv2\u001b[0m\u001b[0;34m.\u001b[0m\u001b[0mcvtColor\u001b[0m\u001b[0;34m(\u001b[0m\u001b[0mimg\u001b[0m\u001b[0;34m,\u001b[0m \u001b[0mcv2\u001b[0m\u001b[0;34m.\u001b[0m\u001b[0mCOLOR_BGR2GRAY\u001b[0m\u001b[0;34m)\u001b[0m\u001b[0;34m\u001b[0m\u001b[0m\n\u001b[1;32m      6\u001b[0m \u001b[0;34m\u001b[0m\u001b[0m\n\u001b[0;32m----> 7\u001b[0;31m     \u001b[0mhog_face_detector\u001b[0m \u001b[0;34m=\u001b[0m \u001b[0mdlib\u001b[0m\u001b[0;34m.\u001b[0m\u001b[0mget_frontal_face_detector\u001b[0m\u001b[0;34m(\u001b[0m\u001b[0;34m)\u001b[0m\u001b[0;34m\u001b[0m\u001b[0m\n\u001b[0m\u001b[1;32m      8\u001b[0m     \u001b[0mfaces_hog\u001b[0m\u001b[0;34m=\u001b[0m \u001b[0mhog_face_detector\u001b[0m\u001b[0;34m(\u001b[0m\u001b[0mimg\u001b[0m\u001b[0;34m,\u001b[0m \u001b[0;36m1\u001b[0m\u001b[0;34m)\u001b[0m\u001b[0;34m\u001b[0m\u001b[0m\n\u001b[1;32m      9\u001b[0m \u001b[0;34m\u001b[0m\u001b[0m\n",
      "\u001b[0;31mKeyboardInterrupt\u001b[0m: "
     ]
    }
   ],
   "source": [
    "from sklearn.utils import shuffle\n",
    "\n",
    "images = []\n",
    "labels = []\n",
    "names = []\n",
    "count = 0\n",
    "\n",
    "for path, dirs, files in os.walk('/home/pham.hoang.anh/prj/face_detect/data/lfw/'):\n",
    "        for d in tqdm(dirs):\n",
    "#             print(count)\n",
    "            added = 0\n",
    "            for ext in ('jpg', 'jpeg', 'png'):\n",
    "                for f in glob.glob(os.path.join(path, d, '*.' + ext)):\n",
    "                    img = read_image(f)\n",
    "                    if img is None:\n",
    "                        continue\n",
    "                    added = 1\n",
    "                    images.append(img)\n",
    "                    labels.append(count)\n",
    "            if added == 1:\n",
    "                names.append(d)\n",
    "                count += 1\n",
    "images, labels = shuffle(images, labels, random_state=0)"
   ]
  },
  {
   "cell_type": "code",
   "execution_count": null,
   "metadata": {},
   "outputs": [],
   "source": []
  },
  {
   "cell_type": "code",
   "execution_count": 4,
   "metadata": {},
   "outputs": [],
   "source": [
    "import pickle\n",
    "\n",
    "with open('X_train_triplet.pkl', 'wb') as f:\n",
    "    pickle.dump(images, f)\n",
    "with open('y_train_triplet.pkl', 'wb') as f:\n",
    "    pickle.dump(labels, f)"
   ]
  }
 ],
 "metadata": {
  "kernelspec": {
   "display_name": "deep-fashion",
   "language": "python",
   "name": "deep-fashion"
  },
  "language_info": {
   "codemirror_mode": {
    "name": "ipython",
    "version": 3
   },
   "file_extension": ".py",
   "mimetype": "text/x-python",
   "name": "python",
   "nbconvert_exporter": "python",
   "pygments_lexer": "ipython3",
   "version": "3.5.2"
  }
 },
 "nbformat": 4,
 "nbformat_minor": 2
}
