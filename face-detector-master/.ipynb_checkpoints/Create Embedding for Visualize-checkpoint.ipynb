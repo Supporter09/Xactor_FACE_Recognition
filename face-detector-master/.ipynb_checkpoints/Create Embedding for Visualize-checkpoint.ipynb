{
 "cells": [
  {
   "cell_type": "code",
   "execution_count": 1,
   "metadata": {
    "colab": {},
    "colab_type": "code",
    "id": "xjYxgZ8pioMe"
   },
   "outputs": [],
   "source": [
    "import numpy as np\n",
    "import cv2"
   ]
  },
  {
   "cell_type": "code",
   "execution_count": 0,
   "metadata": {
    "colab": {},
    "colab_type": "code",
    "id": "ruYJq980nUVn"
   },
   "outputs": [],
   "source": [
    "import pickle\n",
    "\n",
    "with open('/home/pham.hoang.anh/prj/face_detect/X_train_triplet.pkl', 'rb') as f:\n",
    "    X = pickle.load(f)\n",
    "    X = np.array(X)\n",
    "#     X = np.expand_dims(X, axis=3)\n",
    "    X = X/255.\n",
    "with open('/home/pham.hoang.anh/prj/face_detect/y_train_triplet.pkl', 'rb') as f:\n",
    "    y = pickle.load(f)\n",
    "    y = np.array(y)"
   ]
  },
  {
   "cell_type": "code",
   "execution_count": 4,
   "metadata": {
    "colab": {
     "base_uri": "https://localhost:8080/",
     "height": 36
    },
    "colab_type": "code",
    "id": "uC0BtbaF9OvU",
    "outputId": "be222d3d-ad09-4709-ea10-23372491a492"
   },
   "outputs": [
    {
     "data": {
      "text/plain": [
       "((8405, 221, 221, 3), (8405,))"
      ]
     },
     "execution_count": 4,
     "metadata": {
      "tags": []
     },
     "output_type": "execute_result"
    }
   ],
   "source": [
    "np.shape(X), np.shape(y)"
   ]
  },
  {
   "cell_type": "code",
   "execution_count": 0,
   "metadata": {
    "colab": {},
    "colab_type": "code",
    "id": "ePUMUd7MDMxG"
   },
   "outputs": [],
   "source": [
    "# import sklearn.preprocessing\n",
    "\n",
    "# label_binarizer = sklearn.preprocessing.LabelBinarizer()\n",
    "\n",
    "# label_binarizer.fit(range(4))\n",
    "\n",
    "# y = label_binarizer.transform(y)\n",
    "# y_val = label_binarizer.transform(y_val)\n",
    "\n",
    "# print(y.shape)"
   ]
  },
  {
   "cell_type": "code",
   "execution_count": 2,
   "metadata": {
    "colab": {
     "base_uri": "https://localhost:8080/",
     "height": 36
    },
    "colab_type": "code",
    "id": "iPYMxN2tvgF5",
    "outputId": "6521dfc3-d527-4486-d6b1-b7894ec85f9a"
   },
   "outputs": [
    {
     "name": "stderr",
     "output_type": "stream",
     "text": [
      "/home/pham.hoang.anh/virtualenv/deep-fashion/lib/python3.5/importlib/_bootstrap.py:222: RuntimeWarning: numpy.dtype size changed, may indicate binary incompatibility. Expected 96, got 88\n",
      "  return f(*args, **kwds)\n",
      "/home/pham.hoang.anh/virtualenv/deep-fashion/lib/python3.5/site-packages/h5py/__init__.py:34: FutureWarning: Conversion of the second argument of issubdtype from `float` to `np.floating` is deprecated. In future, it will be treated as `np.float64 == np.dtype(float).type`.\n",
      "  from ._conv import register_converters as _register_converters\n",
      "Using TensorFlow backend.\n",
      "/home/pham.hoang.anh/virtualenv/deep-fashion/lib/python3.5/importlib/_bootstrap.py:222: RuntimeWarning: numpy.dtype size changed, may indicate binary incompatibility. Expected 96, got 88\n",
      "  return f(*args, **kwds)\n",
      "/home/pham.hoang.anh/virtualenv/deep-fashion/lib/python3.5/importlib/_bootstrap.py:222: RuntimeWarning: numpy.dtype size changed, may indicate binary incompatibility. Expected 96, got 88\n",
      "  return f(*args, **kwds)\n",
      "/home/pham.hoang.anh/virtualenv/deep-fashion/lib/python3.5/importlib/_bootstrap.py:222: RuntimeWarning: numpy.dtype size changed, may indicate binary incompatibility. Expected 96, got 88\n",
      "  return f(*args, **kwds)\n"
     ]
    }
   ],
   "source": [
    "from keras.models import Sequential, Model\n",
    "from keras.layers import *\n",
    "from keras.optimizers import *\n",
    "from keras import applications"
   ]
  },
  {
   "cell_type": "code",
   "execution_count": 3,
   "metadata": {
    "colab": {},
    "colab_type": "code",
    "id": "d84U9ihiHbFi"
   },
   "outputs": [],
   "source": [
    "import tensorflow as tf\n",
    "from keras import backend as K\n",
    "import h5py\n",
    "\n",
    "\n",
    "def convnet_model_():\n",
    "    vgg_model = applications.VGG16(weights=None, include_top=False, input_shape=(221, 221, 3))\n",
    "    x = vgg_model.output\n",
    "    x = GlobalAveragePooling2D()(x)\n",
    "    x = Dense(4096, activation='relu')(x)\n",
    "    x = Dropout(0.6)(x)\n",
    "    x = Dense(4096, activation='relu')(x)\n",
    "    x = Dropout(0.6)(x)\n",
    "    x = Lambda(lambda x_: K.l2_normalize(x,axis=1))(x)\n",
    "#     x = Lambda(K.l2_normalize)(x)\n",
    "    convnet_model = Model(inputs=vgg_model.input, outputs=x)\n",
    "    return convnet_model\n",
    "\n",
    "def deep_rank_model():\n",
    "    convnet_model = convnet_model_()\n",
    "\n",
    "    first_input = Input(shape=(221, 221, 3))\n",
    "    first_conv = Conv2D(96, kernel_size=(8,8), strides=(16,16), padding='same')(first_input)\n",
    "    first_max = MaxPool2D(pool_size=(3,3), strides=(2,2), padding='same')(first_conv)\n",
    "    first_max = Flatten()(first_max)\n",
    "#     first_max = Lambda(K.l2_normalize)(first_max)\n",
    "    first_max = Lambda(lambda x: K.l2_normalize(x, axis=1))(first_max)\n",
    "\n",
    "    second_input = Input(shape=(221, 221, 3))\n",
    "    second_conv = Conv2D(96, kernel_size=(8,8), strides=(32,32), padding='same')(second_input)\n",
    "    second_max = MaxPool2D(pool_size=(7,7), strides=(4,4), padding='same')(second_conv)\n",
    "    second_max = Flatten()(second_max)\n",
    "    second_max = Lambda(lambda x: K.l2_normalize(x, axis=1))(second_max)\n",
    "#     second_max = Lambda(K.l2_normalize)(second_max)\n",
    "                       \n",
    "    merge_one = concatenate([first_max, second_max])\n",
    "    merge_two = concatenate([merge_one, convnet_model.output])\n",
    "    emb = Dense(4096)(merge_two)\n",
    "    emb = Dense(128)(emb)\n",
    "    l2_norm_final = Lambda(lambda x: K.l2_normalize(x, axis=1))(emb)\n",
    "#     l2_norm_final = Lambda(K.l2_normalize)(emb)\n",
    "                        \n",
    "    final_model = Model(inputs=[first_input, second_input, convnet_model.input], outputs=l2_norm_final)\n",
    "\n",
    "    return final_model"
   ]
  },
  {
   "cell_type": "code",
   "execution_count": 4,
   "metadata": {
    "colab": {
     "base_uri": "https://localhost:8080/",
     "height": 1708
    },
    "colab_type": "code",
    "id": "rVwwf38VHmWq",
    "outputId": "6cbbf3db-4b77-47d2-d9bf-8ed7c1f6e137"
   },
   "outputs": [
    {
     "name": "stdout",
     "output_type": "stream",
     "text": [
      "WARNING:tensorflow:From /home/pham.hoang.anh/virtualenv/deep-fashion/lib/python3.5/site-packages/keras/backend/tensorflow_backend.py:3148: calling l2_normalize (from tensorflow.python.ops.nn_impl) with dim is deprecated and will be removed in a future version.\n",
      "Instructions for updating:\n",
      "dim is deprecated, use axis instead\n",
      "__________________________________________________________________________________________________\n",
      "Layer (type)                    Output Shape         Param #     Connected to                     \n",
      "==================================================================================================\n",
      "input_1 (InputLayer)            (None, 221, 221, 3)  0                                            \n",
      "__________________________________________________________________________________________________\n",
      "block1_conv1 (Conv2D)           (None, 221, 221, 64) 1792        input_1[0][0]                    \n",
      "__________________________________________________________________________________________________\n",
      "block1_conv2 (Conv2D)           (None, 221, 221, 64) 36928       block1_conv1[0][0]               \n",
      "__________________________________________________________________________________________________\n",
      "block1_pool (MaxPooling2D)      (None, 110, 110, 64) 0           block1_conv2[0][0]               \n",
      "__________________________________________________________________________________________________\n",
      "block2_conv1 (Conv2D)           (None, 110, 110, 128 73856       block1_pool[0][0]                \n",
      "__________________________________________________________________________________________________\n",
      "block2_conv2 (Conv2D)           (None, 110, 110, 128 147584      block2_conv1[0][0]               \n",
      "__________________________________________________________________________________________________\n",
      "block2_pool (MaxPooling2D)      (None, 55, 55, 128)  0           block2_conv2[0][0]               \n",
      "__________________________________________________________________________________________________\n",
      "block3_conv1 (Conv2D)           (None, 55, 55, 256)  295168      block2_pool[0][0]                \n",
      "__________________________________________________________________________________________________\n",
      "block3_conv2 (Conv2D)           (None, 55, 55, 256)  590080      block3_conv1[0][0]               \n",
      "__________________________________________________________________________________________________\n",
      "block3_conv3 (Conv2D)           (None, 55, 55, 256)  590080      block3_conv2[0][0]               \n",
      "__________________________________________________________________________________________________\n",
      "block3_pool (MaxPooling2D)      (None, 27, 27, 256)  0           block3_conv3[0][0]               \n",
      "__________________________________________________________________________________________________\n",
      "block4_conv1 (Conv2D)           (None, 27, 27, 512)  1180160     block3_pool[0][0]                \n",
      "__________________________________________________________________________________________________\n",
      "block4_conv2 (Conv2D)           (None, 27, 27, 512)  2359808     block4_conv1[0][0]               \n",
      "__________________________________________________________________________________________________\n",
      "block4_conv3 (Conv2D)           (None, 27, 27, 512)  2359808     block4_conv2[0][0]               \n",
      "__________________________________________________________________________________________________\n",
      "block4_pool (MaxPooling2D)      (None, 13, 13, 512)  0           block4_conv3[0][0]               \n",
      "__________________________________________________________________________________________________\n",
      "block5_conv1 (Conv2D)           (None, 13, 13, 512)  2359808     block4_pool[0][0]                \n",
      "__________________________________________________________________________________________________\n",
      "block5_conv2 (Conv2D)           (None, 13, 13, 512)  2359808     block5_conv1[0][0]               \n",
      "__________________________________________________________________________________________________\n",
      "block5_conv3 (Conv2D)           (None, 13, 13, 512)  2359808     block5_conv2[0][0]               \n",
      "__________________________________________________________________________________________________\n",
      "block5_pool (MaxPooling2D)      (None, 6, 6, 512)    0           block5_conv3[0][0]               \n",
      "__________________________________________________________________________________________________\n",
      "input_2 (InputLayer)            (None, 221, 221, 3)  0                                            \n",
      "__________________________________________________________________________________________________\n",
      "input_3 (InputLayer)            (None, 221, 221, 3)  0                                            \n",
      "__________________________________________________________________________________________________\n",
      "global_average_pooling2d_1 (Glo (None, 512)          0           block5_pool[0][0]                \n",
      "__________________________________________________________________________________________________\n",
      "conv2d_1 (Conv2D)               (None, 14, 14, 96)   18528       input_2[0][0]                    \n",
      "__________________________________________________________________________________________________\n",
      "conv2d_2 (Conv2D)               (None, 7, 7, 96)     18528       input_3[0][0]                    \n",
      "__________________________________________________________________________________________________\n",
      "dense_1 (Dense)                 (None, 4096)         2101248     global_average_pooling2d_1[0][0] \n",
      "__________________________________________________________________________________________________\n",
      "max_pooling2d_1 (MaxPooling2D)  (None, 7, 7, 96)     0           conv2d_1[0][0]                   \n",
      "__________________________________________________________________________________________________\n",
      "max_pooling2d_2 (MaxPooling2D)  (None, 2, 2, 96)     0           conv2d_2[0][0]                   \n",
      "__________________________________________________________________________________________________\n",
      "dropout_1 (Dropout)             (None, 4096)         0           dense_1[0][0]                    \n",
      "__________________________________________________________________________________________________\n",
      "flatten_1 (Flatten)             (None, 4704)         0           max_pooling2d_1[0][0]            \n",
      "__________________________________________________________________________________________________\n",
      "flatten_2 (Flatten)             (None, 384)          0           max_pooling2d_2[0][0]            \n",
      "__________________________________________________________________________________________________\n",
      "dense_2 (Dense)                 (None, 4096)         16781312    dropout_1[0][0]                  \n",
      "__________________________________________________________________________________________________\n",
      "lambda_2 (Lambda)               (None, 4704)         0           flatten_1[0][0]                  \n",
      "__________________________________________________________________________________________________\n",
      "lambda_3 (Lambda)               (None, 384)          0           flatten_2[0][0]                  \n",
      "__________________________________________________________________________________________________\n",
      "dropout_2 (Dropout)             (None, 4096)         0           dense_2[0][0]                    \n",
      "__________________________________________________________________________________________________\n",
      "concatenate_1 (Concatenate)     (None, 5088)         0           lambda_2[0][0]                   \n",
      "                                                                 lambda_3[0][0]                   \n",
      "__________________________________________________________________________________________________\n",
      "lambda_1 (Lambda)               (None, 4096)         0           dropout_2[0][0]                  \n",
      "__________________________________________________________________________________________________\n",
      "concatenate_2 (Concatenate)     (None, 9184)         0           concatenate_1[0][0]              \n",
      "                                                                 lambda_1[0][0]                   \n",
      "__________________________________________________________________________________________________\n",
      "dense_3 (Dense)                 (None, 4096)         37621760    concatenate_2[0][0]              \n",
      "__________________________________________________________________________________________________\n",
      "dense_4 (Dense)                 (None, 128)          524416      dense_3[0][0]                    \n",
      "__________________________________________________________________________________________________\n",
      "lambda_4 (Lambda)               (None, 128)          0           dense_4[0][0]                    \n",
      "==================================================================================================\n",
      "Total params: 71,780,480\n",
      "Trainable params: 71,780,480\n",
      "Non-trainable params: 0\n",
      "__________________________________________________________________________________________________\n"
     ]
    }
   ],
   "source": [
    "deep_rank_model = deep_rank_model()\n",
    "deep_rank_model.summary()"
   ]
  },
  {
   "cell_type": "code",
   "execution_count": 5,
   "metadata": {
    "colab": {},
    "colab_type": "code",
    "id": "PHY7XziPKu94"
   },
   "outputs": [],
   "source": [
    "batch_size = 24\n",
    "\n",
    "_EPSILON = K.epsilon()\n",
    "def _loss_tensor(y_true, y_pred):\n",
    "    y_pred = K.clip(y_pred, _EPSILON, 1.0 - _EPSILON)\n",
    "    loss = 0.\n",
    "    g = 1.\n",
    "    for i in range(0, batch_size, 3):\n",
    "        try:\n",
    "            q_embedding = y_pred[i]\n",
    "            p_embedding = y_pred[i+1]\n",
    "            n_embedding = y_pred[i+2]\n",
    "            D_q_p = K.sqrt(K.sum((q_embedding - p_embedding)**2))\n",
    "            D_q_n = K.sqrt(K.sum((q_embedding - n_embedding)**2))\n",
    "            loss = loss + g + D_q_p - D_q_n\n",
    "        except:\n",
    "            continue\n",
    "    loss = loss/batch_size*3\n",
    "    return K.maximum(loss, 0)"
   ]
  },
  {
   "cell_type": "code",
   "execution_count": 6,
   "metadata": {
    "colab": {},
    "colab_type": "code",
    "id": "h2lcWgrgK2HH"
   },
   "outputs": [],
   "source": [
    "deep_rank_model.compile(loss=_loss_tensor, optimizer=SGD(lr=0.001, momentum=0.9, nesterov=True))"
   ]
  },
  {
   "cell_type": "code",
   "execution_count": 7,
   "metadata": {
    "colab": {},
    "colab_type": "code",
    "id": "X4AZD-UMIbjA"
   },
   "outputs": [],
   "source": [
    "def image_batch_generator(images, labels, batch_size):\n",
    "    labels = np.array(labels)\n",
    "    while True:\n",
    "        batch_paths = np.random.choice(a = len(images), size = batch_size//3)\n",
    "        input_1 = []\n",
    "        \n",
    "        for i in batch_paths:\n",
    "            pos = np.where(labels == labels[i])[0]\n",
    "            neg = np.where(labels != labels[i])[0]\n",
    "            \n",
    "            j = np.random.choice(pos)\n",
    "            while j == i:\n",
    "                j = np.random.choice(pos)\n",
    "             \n",
    "            k = np.random.choice(neg)\n",
    "            while k == i:\n",
    "                k = np.random.choice(neg)\n",
    "            \n",
    "            input_1.append(images[i])\n",
    "            input_1.append(images[j])\n",
    "            input_1.append(images[k])\n",
    "\n",
    "        input_1 = np.array(input_1)\n",
    "        input = [input_1, input_1, input_1]\n",
    "        yield(input, np.zeros((batch_size, )))"
   ]
  },
  {
   "cell_type": "code",
   "execution_count": 8,
   "metadata": {
    "colab": {
     "base_uri": "https://localhost:8080/",
     "height": 36
    },
    "colab_type": "code",
    "id": "PEQ3O2pqMFf9",
    "outputId": "ea2a2453-2b1b-483b-d6be-85ccead92100"
   },
   "outputs": [
    {
     "name": "stdout",
     "output_type": "stream",
     "text": [
      "Loading pre-trained weight\n"
     ]
    }
   ],
   "source": [
    "from keras.models import load_model\n",
    "\n",
    "print(\"Loading pre-trained weight\")\n",
    "deep_rank_model.load_weights('/home/pham.hoang.anh/prj/face_detect/triplet_weight.hdf5')"
   ]
  },
  {
   "cell_type": "code",
   "execution_count": 0,
   "metadata": {
    "colab": {},
    "colab_type": "code",
    "id": "11PIHM8Tx2mD"
   },
   "outputs": [],
   "source": []
  }
 ],
 "metadata": {
  "accelerator": "GPU",
  "colab": {
   "collapsed_sections": [],
   "name": "[Training_Triplet] Facedetect.ipynb",
   "provenance": [],
   "version": "0.3.2"
  },
  "kernelspec": {
   "display_name": "deep-fashion",
   "language": "python",
   "name": "deep-fashion"
  },
  "language_info": {
   "codemirror_mode": {
    "name": "ipython",
    "version": 3
   },
   "file_extension": ".py",
   "mimetype": "text/x-python",
   "name": "python",
   "nbconvert_exporter": "python",
   "pygments_lexer": "ipython3",
   "version": "3.5.2"
  }
 },
 "nbformat": 4,
 "nbformat_minor": 1
}
